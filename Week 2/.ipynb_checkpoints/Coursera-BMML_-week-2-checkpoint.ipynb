{
 "cells": [
  {
   "cell_type": "markdown",
   "metadata": {},
   "source": [
    "# Expectation-maximization algorithm"
   ]
  },
  {
   "cell_type": "markdown",
   "metadata": {},
   "source": [
    "In this assignment, we will derive and implement formulas for Gaussian Mixture Model — one of the most commonly used methods for performing soft clustering of the data. "
   ]
  },
  {
   "cell_type": "markdown",
   "metadata": {},
   "source": [
    "### Installation\n",
    "\n",
    "We will need ```numpy```, ```scikit-learn```, ```matplotlib``` libraries for this assignment"
   ]
  },
  {
   "cell_type": "code",
   "execution_count": 429,
   "metadata": {},
   "outputs": [],
   "source": [
    "import numpy as np\n",
    "from numpy.linalg import slogdet, det, solve\n",
    "import matplotlib.pyplot as plt\n",
    "import time\n",
    "from sklearn.datasets import load_digits\n",
    "from grader import Grader\n",
    "%matplotlib inline"
   ]
  },
  {
   "cell_type": "markdown",
   "metadata": {},
   "source": [
    "### Grading\n",
    "We will create a grader instance below and use it to collect your answers. Note that these outputs will be stored locally inside grader and will be uploaded to the platform only after running submitting function in the last part of this assignment. If you want to make a partial submission, you can run that cell anytime you want."
   ]
  },
  {
   "cell_type": "code",
   "execution_count": 430,
   "metadata": {},
   "outputs": [],
   "source": [
    "grader = Grader()"
   ]
  },
  {
   "cell_type": "markdown",
   "metadata": {},
   "source": [
    "## Implementing EM for GMM"
   ]
  },
  {
   "cell_type": "markdown",
   "metadata": {},
   "source": [
    "For debugging we will use samples from gaussian mixture model with unknown mean, variance and priors. We also added inital values of parameters for grading purposes."
   ]
  },
  {
   "cell_type": "code",
   "execution_count": 431,
   "metadata": {},
   "outputs": [
    {
     "data": {
      "image/png": "[encoded data removed]",
      "text/plain": [
       "<Figure size 432x288 with 1 Axes>"
      ]
     },
     "metadata": {
      "needs_background": "light"
     },
     "output_type": "display_data"
    }
   ],
   "source": [
    "samples = np.load('samples.npz')\n",
    "X = samples['data']\n",
    "pi0 = samples['pi0']\n",
    "mu0 = samples['mu0']\n",
    "sigma0 = samples['sigma0']\n",
    "plt.scatter(X[:, 0], X[:, 1], c='blue', s=30)\n",
    "plt.xlabel(\"First dimension\")\n",
    "plt.ylabel(\"Second dimension\")\n",
    "plt.axis('equal')\n",
    "plt.show()"
   ]
  },
  {
   "cell_type": "markdown",
   "metadata": {},
   "source": [
    "### Reminder"
   ]
  },
  {
   "cell_type": "markdown",
   "metadata": {},
   "source": [
    "Remember, that EM algorithm is a coordinate descent optimization of variational lower bound $\\mathcal{L}(\\theta, q) = \\int q(T) \\log\\frac{P(X, T|\\theta)}{q(T)}dT\\to \\max$.\n",
    "\n",
    "<b>E-step</b>:<br>\n",
    "$\\mathcal{L}(\\theta, q) \\to \\max\\limits_{q} \\Leftrightarrow \\mathcal{KL} [q(T) \\,\\|\\, p(T|X, \\theta)] \\to \\min \\limits_{q\\in Q} \\Rightarrow q(T) = p(T|X, \\theta)$<br>\n",
    "<b>M-step</b>:<br> \n",
    "$\\mathcal{L}(\\theta, q) \\to \\max\\limits_{\\theta} \\Leftrightarrow \\mathbb{E}_{q(T)}\\log p(X,T | \\theta) \\to \\max\\limits_{\\theta}$\n",
    "\n",
    "For GMM, $\\theta$ is a set of parameters that consists of mean vectors $\\mu_c$, covariance matrices $\\Sigma_c$ and priors $\\pi_c$ for each component.\n",
    "\n",
    "Latent variables $T$ are indices of components to which each data point is assigned. $T_i$ (cluster index for object $i$) is a binary vector with only one active bit in position corresponding to the true component. For example, if we have $C=3$ components and object $i$ lies in first component, $T_i = [1, 0, 0]$.\n",
    "\n",
    "The joint distribution can be written as follows: $p(T, X \\mid \\theta) =  \\prod\\limits_{i=1}^N p(T_i, X_i \\mid \\theta) = \\prod\\limits_{i=1}^N \\prod\\limits_{c=1}^C [\\pi_c \\mathcal{N}(X_i \\mid \\mu_c, \\Sigma_c)]^{T_{ic}}$."
   ]
  },
  {
   "cell_type": "markdown",
   "metadata": {},
   "source": [
    "### E-step\n",
    "In this step we need to estimate the posterior distribution over the latent variables with fixed values of parameters: $q(T) = p(T|X, \\theta)$. We will assume that $T_i$ (cluster index for object $i$) is a binary vector with only one '1' in position corresponding to the true component. To do so we need to compute $\\gamma_{ic} = P(T_{ic} = 1 \\mid X, \\theta)$. Note that $\\sum\\limits_{c=1}^C\\gamma_{ic}=1$.\n"
   ]
  },
  {
   "cell_type": "markdown",
   "metadata": {},
   "source": [
    "<b>Important trick 1:</b> It is important to avoid numerical errors. At some point you will have to compute the formula of the following form: $\\frac{e^{x_i}}{\\sum_j e^{x_j}}$. When you compute exponents of large numbers, you get huge numerical errors (some numbers will simply become infinity). You can avoid this by dividing numerator and denominator by $e^{\\max(x)}$: $\\frac{e^{x_i-\\max(x)}}{\\sum_j e^{x_j - \\max(x)}}$. After this transformation maximum value in the denominator will be equal to one. All other terms will contribute smaller values. This trick is called log-sum-exp. So, to compute desired formula you first subtract maximum value from each component in vector $X$ and then compute everything else as before.\n",
    "\n",
    "<b>Important trick 2:</b> You will probably need to compute formula of the form $A^{-1}x$ at some point. You would normally inverse $A$ and then multiply it by $x$. A bit faster and more numerically accurate way to do this is to solve the equation $Ay = x$. Its solution is $y=A^{-1}x$, but the equation $Ay = x$ can be solved by Gaussian elimination procedure. You can use ```np.linalg.solve``` for this.\n",
    "\n",
    "<b>Other usefull functions: </b> <a href=\"https://docs.scipy.org/doc/numpy/reference/generated/numpy.linalg.slogdet.html\">```slogdet```</a> and <a href=\"https://docs.scipy.org/doc/numpy/reference/generated/numpy.linalg.det.html#numpy.linalg.det\">```det```</a>"
   ]
  },
  {
   "cell_type": "markdown",
   "metadata": {},
   "source": [
    "<b>Task 1:</b> Implement E-step for GMM using template below."
   ]
  },
  {
   "cell_type": "code",
   "execution_count": 432,
   "metadata": {},
   "outputs": [],
   "source": [
    "def E_step(X, pi, mu, sigma):\n",
    "    \"\"\"\n",
    "    Performs E-step on GMM model\n",
    "    Each input is numpy array:\n",
    "    X: (N x d), data points\n",
    "    pi: (C), mixture component weights \n",
    "    mu: (C x d), mixture component means\n",
    "    sigma: (C x d x d), mixture component covariance matrices\n",
    "    \n",
    "    Returns:\n",
    "    gamma: (N x C), probabilities of clusters for objects\n",
    "    \"\"\"\n",
    "    N = X.shape[0] # number of objects\n",
    "    C = pi.shape[0] # number of clusters\n",
    "    d = mu.shape[1] # dimension of each object\n",
    "    gamma = np.zeros((N, C)) # distribution q(T) \n",
    "    \n",
    "\n",
    "    ### YOUR CODE HERE\n",
    "    \n",
    "    ### My aim is to find the gamma for each data point q(T) which is discrete and equal to p(T|X,theta)\n",
    "    ### which is equal to p(X|T) * p(T)\n",
    "    \n",
    "    ### First generate a likelihood matrix\n",
    "    likelihood = np.zeros((N,C)) # distribution p(X|T)\n",
    "    \n",
    "    for i in range(N):\n",
    "        max_x = 0\n",
    "        for j in range(C):\n",
    "            eig_values = np.array(np.linalg.eigvals(sigma[j]))\n",
    "            pseudo_det = np.product(eig_values[eig_values > 1/(10**12)])\n",
    "            sq_root_det_sigma = np.sqrt(pseudo_det)\n",
    "            #sign, logdet = np.linalg.slogdet(sigma[j])\n",
    "            #sq_root_det_sigma = np.sqrt(sign * np.exp(logdet))\n",
    "            denom = 2 * np.pi * sq_root_det_sigma\n",
    "            diff = X[i]-mu[j]\n",
    "            diff = diff.reshape(diff.shape[0],1)\n",
    "            ### compute the likelihood for each data point given each cluster p(x_i|t_i)\n",
    "            likelihood[i][j] = np.exp( (-1/2) * np.dot(np.dot(np.transpose(diff),np.linalg.pinv(sigma[j])),diff)) / denom\n",
    "            if j == 0:\n",
    "                max_x = likelihood[i][j]\n",
    "            else:\n",
    "                if (likelihood[i][j]>max_x):\n",
    "                    max_x = likelihood[i][j]\n",
    "            gamma[i][j] = likelihood[i][j]*pi[j] \n",
    "        norm_cons = np.sum(gamma[i]/max_x)\n",
    "        gamma[i] = gamma[i]/max_x/norm_cons\n",
    "        \n",
    "    return gamma"
   ]
  },
  {
   "cell_type": "code",
   "execution_count": 433,
   "metadata": {},
   "outputs": [
    {
     "data": {
      "text/plain": [
       "array([[9.89984413e-001, 1.00155874e-002, 2.51121517e-016],\n",
       "       [9.77802155e-001, 2.21978447e-002, 1.07229089e-014],\n",
       "       [9.78228436e-001, 2.17715636e-002, 6.65282252e-016],\n",
       "       [9.99470994e-001, 5.29005851e-004, 7.87626322e-024],\n",
       "       [9.99482344e-001, 5.17656126e-004, 3.24388347e-026],\n",
       "       [6.83857110e-005, 9.99931614e-001, 1.15852408e-020],\n",
       "       [1.50729715e-036, 1.00000000e+000, 2.89692453e-057],\n",
       "       [1.83115480e-001, 8.16884375e-001, 1.44924709e-007],\n",
       "       [9.60027562e-001, 3.99724376e-002, 7.78636239e-013],\n",
       "       [4.35705967e-001, 5.33717874e-001, 3.05761590e-002],\n",
       "       [4.22427127e-001, 5.74733674e-001, 2.83919872e-003],\n",
       "       [9.88286857e-001, 1.17131434e-002, 1.83043464e-016],\n",
       "       [5.42939168e-001, 4.56729246e-001, 3.31586125e-004],\n",
       "       [1.08502493e-001, 8.91497507e-001, 8.73826666e-032],\n",
       "       [6.27715071e-004, 9.99372285e-001, 3.50074230e-024],\n",
       "       [8.65821552e-001, 1.34178197e-001, 2.50489977e-007],\n",
       "       [1.34635440e-010, 1.00000000e+000, 1.69888046e-010],\n",
       "       [9.98574647e-001, 1.42535271e-003, 3.60305312e-021],\n",
       "       [5.82682916e-001, 4.17155213e-001, 1.61870957e-004],\n",
       "       [7.17431881e-003, 9.92825681e-001, 6.50764568e-033],\n",
       "       [8.84438735e-001, 1.15561258e-001, 7.44147679e-009],\n",
       "       [3.31022532e-032, 1.00000000e+000, 7.36124776e-060],\n",
       "       [9.02677772e-001, 9.73222282e-002, 5.41088147e-013],\n",
       "       [5.00471682e-001, 4.99528299e-001, 1.83893219e-008],\n",
       "       [4.27581828e-001, 5.72418172e-001, 6.37019789e-016],\n",
       "       [9.75523255e-001, 2.44767447e-002, 2.74486756e-013],\n",
       "       [1.51244867e-001, 8.48692121e-001, 6.30121146e-005],\n",
       "       [9.96672991e-001, 3.32700876e-003, 4.95455456e-019],\n",
       "       [9.98159095e-001, 1.84090520e-003, 7.83038379e-023],\n",
       "       [5.37164837e-001, 4.62835163e-001, 1.90763710e-010],\n",
       "       [2.73400571e-001, 7.26599429e-001, 1.02566952e-017],\n",
       "       [7.75524307e-011, 1.00000000e+000, 5.24212154e-018],\n",
       "       [7.22662545e-005, 9.99927692e-001, 4.15278765e-008],\n",
       "       [6.74049906e-002, 9.32578071e-001, 1.69382852e-005],\n",
       "       [9.46306123e-001, 5.36938771e-002, 2.96276141e-011],\n",
       "       [1.92106543e-001, 8.07893457e-001, 3.42577586e-024],\n",
       "       [9.83432083e-001, 1.65679174e-002, 2.61226097e-014],\n",
       "       [9.98027352e-001, 1.97264791e-003, 9.02095624e-021],\n",
       "       [9.67467153e-001, 3.25328469e-002, 1.20353992e-020],\n",
       "       [7.77654827e-001, 2.22331092e-001, 1.40810861e-005],\n",
       "       [4.25072622e-029, 1.00000000e+000, 2.97536994e-047],\n",
       "       [9.82169125e-040, 1.00000000e+000, 8.12086589e-032],\n",
       "       [3.39114692e-006, 9.99996609e-001, 6.00751693e-011],\n",
       "       [9.88800549e-001, 1.11994512e-002, 3.80896653e-018],\n",
       "       [1.16713858e-012, 1.00000000e+000, 3.46337116e-022],\n",
       "       [3.10046573e-005, 9.99703513e-001, 2.65482523e-004],\n",
       "       [7.46640884e-010, 9.99999696e-001, 3.03518301e-007],\n",
       "       [9.25711181e-001, 7.42888187e-002, 3.08664660e-012],\n",
       "       [8.80869712e-001, 1.19130288e-001, 1.78095586e-015],\n",
       "       [8.75967464e-002, 9.12403045e-001, 2.08461846e-007],\n",
       "       [8.18300513e-001, 1.81693445e-001, 6.04150639e-006],\n",
       "       [1.16688886e-005, 9.99988329e-001, 1.70344337e-009],\n",
       "       [3.38337942e-005, 9.99790740e-001, 1.75426480e-004],\n",
       "       [5.33087028e-056, 1.00000000e+000, 2.52623256e-099],\n",
       "       [9.89207035e-001, 1.07929655e-002, 5.30875614e-023],\n",
       "       [3.51715656e-005, 9.99963909e-001, 9.19924860e-007],\n",
       "       [1.87244905e-040, 1.00000000e+000, 1.13498824e-071],\n",
       "       [7.68782909e-001, 2.31217091e-001, 2.99659994e-020],\n",
       "       [6.67156178e-001, 3.32801970e-001, 4.18520525e-005],\n",
       "       [2.02966620e-003, 9.97970334e-001, 8.51309898e-016],\n",
       "       [9.79084486e-006, 9.99990137e-001, 7.26278391e-008],\n",
       "       [9.89554543e-001, 1.04454570e-002, 1.14968358e-015],\n",
       "       [4.72640759e-001, 4.19676785e-001, 1.07682456e-001],\n",
       "       [6.19776879e-001, 3.80221676e-001, 1.44452637e-006],\n",
       "       [9.99328626e-001, 6.71374224e-004, 8.68733122e-025],\n",
       "       [9.81782652e-001, 1.82173483e-002, 9.80676287e-016],\n",
       "       [6.75540240e-001, 3.24459723e-001, 3.76102474e-008],\n",
       "       [2.80780070e-020, 1.00000000e+000, 4.35809573e-037],\n",
       "       [1.45715243e-001, 8.48877116e-001, 5.40764091e-003],\n",
       "       [2.64447684e-001, 7.35552315e-001, 6.43261727e-010],\n",
       "       [8.47188297e-001, 1.52811703e-001, 9.96188775e-020],\n",
       "       [5.68401680e-001, 4.31598311e-001, 8.89272789e-009],\n",
       "       [7.46910771e-001, 2.53089229e-001, 3.04825467e-012],\n",
       "       [1.39362596e-054, 1.00000000e+000, 4.11537544e-097],\n",
       "       [8.15874991e-008, 9.99999888e-001, 3.02588585e-008],\n",
       "       [1.27833463e-035, 1.00000000e+000, 7.56615280e-054],\n",
       "       [7.62196158e-001, 2.37803754e-001, 8.80431494e-008],\n",
       "       [9.93569821e-001, 6.43017874e-003, 3.56908029e-017],\n",
       "       [6.09736578e-001, 3.90263422e-001, 2.37841786e-023],\n",
       "       [7.97913723e-002, 9.17905209e-001, 2.30341863e-003],\n",
       "       [9.60598218e-001, 3.94017819e-002, 1.36163515e-019],\n",
       "       [9.98231799e-001, 1.76820127e-003, 1.35424876e-033],\n",
       "       [3.35580255e-008, 9.99999966e-001, 1.79365814e-011],\n",
       "       [9.81178030e-001, 1.88219701e-002, 7.51683946e-015],\n",
       "       [1.08944684e-005, 9.99989106e-001, 1.48761790e-014],\n",
       "       [2.41661138e-001, 7.58317343e-001, 2.15194567e-005],\n",
       "       [9.67360243e-001, 3.26397575e-002, 1.76910887e-022],\n",
       "       [5.04579648e-037, 1.00000000e+000, 4.58476022e-061],\n",
       "       [9.39809319e-001, 6.01906810e-002, 1.14133421e-018],\n",
       "       [8.93371534e-032, 1.00000000e+000, 2.79433794e-028],\n",
       "       [9.80759102e-001, 1.92408977e-002, 2.75893295e-017],\n",
       "       [1.66231399e-011, 9.99999891e-001, 1.08913209e-007],\n",
       "       [4.60964846e-043, 1.00000000e+000, 7.00877776e-029],\n",
       "       [5.56872330e-018, 1.00000000e+000, 1.46311874e-016],\n",
       "       [3.57295644e-022, 1.00000000e+000, 6.25292498e-048],\n",
       "       [1.00005166e-004, 9.97717904e-001, 2.18209077e-003],\n",
       "       [9.30907197e-001, 6.90928027e-002, 6.03708753e-010],\n",
       "       [2.94844967e-008, 9.99999970e-001, 2.74157816e-011],\n",
       "       [2.50466557e-023, 1.00000000e+000, 4.80185461e-026],\n",
       "       [2.73560249e-038, 1.00000000e+000, 3.40501104e-067],\n",
       "       [7.50379332e-001, 2.49620668e-001, 1.54730995e-010],\n",
       "       [9.94030897e-001, 5.96910305e-003, 1.10749254e-018],\n",
       "       [1.23855867e-006, 9.99998757e-001, 4.70933336e-009],\n",
       "       [2.63782304e-010, 1.00000000e+000, 6.93245402e-014],\n",
       "       [1.82329505e-002, 9.81767049e-001, 4.17176704e-024],\n",
       "       [9.76402569e-001, 2.35974314e-002, 6.27296885e-015],\n",
       "       [2.54508734e-010, 9.73066611e-001, 2.69333891e-002],\n",
       "       [1.33747393e-045, 1.00000000e+000, 8.65404174e-085],\n",
       "       [8.18440306e-011, 1.00000000e+000, 3.68730910e-018],\n",
       "       [5.45878005e-001, 4.54120626e-001, 1.36924354e-006],\n",
       "       [5.97584204e-001, 4.02415796e-001, 6.81338046e-024],\n",
       "       [5.51372032e-008, 9.99999943e-001, 2.20658482e-009],\n",
       "       [6.20674312e-001, 3.79325684e-001, 3.53449111e-009],\n",
       "       [1.13318527e-006, 9.99998867e-001, 1.53855599e-010],\n",
       "       [5.39371081e-003, 9.94604486e-001, 1.80275628e-006],\n",
       "       [9.61838346e-001, 3.81616539e-002, 9.17776316e-012],\n",
       "       [5.26100330e-001, 4.73880398e-001, 1.92722603e-005],\n",
       "       [9.49415985e-001, 5.05840148e-002, 9.30162183e-017],\n",
       "       [7.15641239e-001, 2.84358682e-001, 7.89247915e-008],\n",
       "       [5.05802224e-048, 1.00000000e+000, 1.71440517e-089],\n",
       "       [9.90506273e-001, 9.49372689e-003, 3.42987647e-017],\n",
       "       [9.87377482e-001, 1.26225175e-002, 6.01853831e-028],\n",
       "       [9.97803736e-001, 2.19626406e-003, 3.91458740e-020],\n",
       "       [1.30067051e-009, 9.99999999e-001, 5.59912198e-012],\n",
       "       [6.31424827e-002, 9.36857504e-001, 1.35570533e-008],\n",
       "       [2.27103615e-040, 1.00000000e+000, 1.07157827e-086],\n",
       "       [8.12400365e-015, 9.99999885e-001, 1.14598616e-007],\n",
       "       [8.81152615e-001, 1.18847384e-001, 1.15970699e-010],\n",
       "       [6.67626004e-001, 3.08066300e-001, 2.43076958e-002],\n",
       "       [1.27573235e-053, 1.00000000e+000, 5.66388480e-109],\n",
       "       [9.49774594e-001, 5.02254058e-002, 1.57924789e-020],\n",
       "       [1.00108033e-020, 1.00000000e+000, 1.85708367e-015],\n",
       "       [6.99797547e-004, 9.98854079e-001, 4.46123248e-004],\n",
       "       [9.28091362e-018, 1.00000000e+000, 3.20420718e-016],\n",
       "       [9.91091100e-001, 8.90889991e-003, 2.82474339e-016],\n",
       "       [6.91780098e-001, 2.23347358e-001, 8.48725433e-002],\n",
       "       [6.47939355e-015, 1.00000000e+000, 6.99973736e-025],\n",
       "       [6.80832718e-055, 1.00000000e+000, 2.44707762e-105],\n",
       "       [1.95752248e-018, 1.00000000e+000, 1.87529119e-024],\n",
       "       [9.92245805e-001, 7.75419472e-003, 6.04427257e-018],\n",
       "       [9.79620375e-001, 2.03796252e-002, 1.14276149e-021],\n",
       "       [1.70935860e-001, 8.29064140e-001, 4.93557916e-027],\n",
       "       [9.97403502e-001, 2.59649822e-003, 1.36730836e-019],\n",
       "       [2.20678408e-065, 1.00000000e+000, 1.62368574e-115],\n",
       "       [5.04456661e-008, 9.99999930e-001, 1.93092318e-008],\n",
       "       [9.99487718e-001, 5.12281782e-004, 5.99602271e-024],\n",
       "       [9.94856654e-001, 5.14334562e-003, 1.46960319e-018],\n",
       "       [7.01592409e-001, 2.98407555e-001, 3.62692873e-008],\n",
       "       [9.62657354e-001, 3.73426456e-002, 5.66906169e-020],\n",
       "       [9.92566532e-001, 7.43346845e-003, 5.18056089e-017],\n",
       "       [1.06261963e-018, 1.00000000e+000, 1.28946184e-033],\n",
       "       [1.18486037e-003, 9.98815140e-001, 4.01447086e-035],\n",
       "       [9.94154042e-001, 5.84595781e-003, 1.40141692e-017],\n",
       "       [9.98038788e-001, 1.96121195e-003, 9.36260484e-025],\n",
       "       [9.83619351e-001, 1.63806489e-002, 2.36572265e-014],\n",
       "       [2.56944775e-001, 7.43055181e-001, 4.45700250e-008],\n",
       "       [5.78915756e-002, 9.42108424e-001, 5.17372550e-034],\n",
       "       [1.06004350e-010, 1.00000000e+000, 4.35410111e-014],\n",
       "       [2.72821660e-001, 7.27178340e-001, 8.11922274e-022],\n",
       "       [9.94900371e-001, 5.09962882e-003, 6.81494020e-018],\n",
       "       [1.22500920e-044, 1.00000000e+000, 1.98515560e-085],\n",
       "       [5.78999868e-016, 1.00000000e+000, 4.96974601e-020],\n",
       "       [2.19348185e-007, 9.99999762e-001, 1.87577342e-008],\n",
       "       [4.18992288e-004, 9.99579824e-001, 1.18334909e-006],\n",
       "       [1.31578952e-008, 9.99999986e-001, 5.53832236e-010],\n",
       "       [3.20130052e-039, 1.00000000e+000, 3.73990464e-067],\n",
       "       [6.68690087e-001, 3.31309913e-001, 3.53413047e-012],\n",
       "       [2.16752789e-002, 9.78324721e-001, 1.54060256e-023],\n",
       "       [2.88111444e-001, 7.11886418e-001, 2.13766312e-006],\n",
       "       [5.88640555e-013, 1.00000000e+000, 5.67830209e-019],\n",
       "       [4.95971696e-006, 9.99995040e-001, 1.92822385e-016],\n",
       "       [2.52591722e-042, 1.00000000e+000, 1.37385708e-069],\n",
       "       [1.38307432e-039, 1.00000000e+000, 3.65826595e-064],\n",
       "       [9.49429284e-010, 9.99999999e-001, 1.01498864e-015],\n",
       "       [5.87904097e-002, 9.41209452e-001, 1.38202762e-007],\n",
       "       [1.77111858e-020, 1.00000000e+000, 7.79071993e-012],\n",
       "       [2.09718240e-002, 9.79026888e-001, 1.28788100e-006],\n",
       "       [1.54936859e-004, 9.99790603e-001, 5.44602310e-005],\n",
       "       [1.23884492e-001, 8.76115508e-001, 5.06711624e-010],\n",
       "       [2.75304806e-001, 7.24254017e-001, 4.41176620e-004],\n",
       "       [9.95451944e-001, 4.54805637e-003, 6.27144615e-019],\n",
       "       [2.63973751e-002, 9.73602625e-001, 2.95706962e-037],\n",
       "       [9.30765376e-001, 6.92346240e-002, 2.09329176e-011],\n",
       "       [2.10482070e-044, 1.00000000e+000, 2.49722156e-077],\n",
       "       [7.07303446e-001, 2.92696554e-001, 2.05020462e-012],\n",
       "       [9.50566473e-001, 4.94335267e-002, 1.48295719e-011],\n",
       "       [8.26888599e-001, 1.73111391e-001, 9.07454805e-009],\n",
       "       [9.53814916e-001, 4.61850837e-002, 5.39474984e-016],\n",
       "       [7.46383836e-001, 2.53613886e-001, 2.27751528e-006],\n",
       "       [3.23098926e-001, 6.76901043e-001, 3.13849242e-008],\n",
       "       [1.11976789e-004, 9.99888023e-001, 2.72556610e-037],\n",
       "       [2.24830870e-001, 7.40669239e-001, 3.44998908e-002],\n",
       "       [9.95015368e-001, 4.98463167e-003, 9.07842153e-018],\n",
       "       [2.23896204e-003, 9.97761038e-001, 1.87890187e-014],\n",
       "       [9.27291025e-001, 7.27089734e-002, 1.12498166e-009],\n",
       "       [9.07560653e-001, 9.24393468e-002, 1.75192832e-013],\n",
       "       [5.16062836e-015, 1.00000000e+000, 1.99252635e-010],\n",
       "       [2.61095695e-005, 9.99973890e-001, 2.97568965e-025],\n",
       "       [9.81190290e-001, 1.88097101e-002, 1.73292254e-018],\n",
       "       [9.91645308e-001, 8.35469249e-003, 3.42156472e-017],\n",
       "       [9.39942457e-010, 9.94597134e-001, 5.40286460e-003],\n",
       "       [3.15805215e-006, 9.99996807e-001, 3.53455584e-008],\n",
       "       [7.09036304e-001, 2.35409981e-001, 5.55537151e-002],\n",
       "       [9.63262619e-001, 3.67373807e-002, 2.63529411e-012],\n",
       "       [9.80787759e-001, 1.92122413e-002, 6.73036906e-014],\n",
       "       [2.69287163e-049, 1.00000000e+000, 7.54836665e-095],\n",
       "       [9.48838197e-001, 5.11618028e-002, 6.61972000e-013],\n",
       "       [1.76108464e-013, 1.00000000e+000, 2.54227957e-016],\n",
       "       [1.05093550e-037, 1.00000000e+000, 2.56489516e-063],\n",
       "       [9.24586732e-001, 7.54132682e-002, 1.17587385e-011],\n",
       "       [9.84783363e-001, 1.52166374e-002, 1.74204906e-033],\n",
       "       [6.38945043e-013, 1.00000000e+000, 3.43703956e-013],\n",
       "       [9.96339217e-001, 3.66078330e-003, 8.40170186e-021],\n",
       "       [3.12919736e-068, 1.00000000e+000, 1.08224688e-112],\n",
       "       [8.01562247e-001, 1.98437753e-001, 6.48676933e-011],\n",
       "       [7.92456543e-002, 9.20754337e-001, 8.32631915e-009],\n",
       "       [9.87457753e-001, 1.25422471e-002, 4.51957527e-022],\n",
       "       [4.97302099e-029, 1.00000000e+000, 5.20809361e-025],\n",
       "       [5.55043097e-001, 4.44956903e-001, 1.19302194e-016],\n",
       "       [9.98575399e-001, 1.42460067e-003, 1.25770732e-023],\n",
       "       [5.85459932e-002, 9.41454007e-001, 4.49872427e-015],\n",
       "       [3.60824136e-002, 9.63917586e-001, 3.32506472e-030],\n",
       "       [4.50016386e-002, 9.54988656e-001, 9.70565232e-006],\n",
       "       [9.97632870e-001, 2.36713038e-003, 6.99886574e-020],\n",
       "       [1.29253978e-001, 8.70746022e-001, 5.61094014e-031],\n",
       "       [4.99864997e-001, 5.00134980e-001, 2.26162963e-008],\n",
       "       [3.69281581e-001, 6.30718289e-001, 1.30903831e-007],\n",
       "       [1.06483218e-006, 9.99998935e-001, 2.64742717e-015],\n",
       "       [9.90247153e-001, 9.75284664e-003, 1.18219076e-017],\n",
       "       [5.04228915e-003, 9.94956095e-001, 1.61551439e-006],\n",
       "       [1.07784716e-008, 9.99999988e-001, 8.83969934e-010],\n",
       "       [9.95877172e-001, 4.12282776e-003, 5.11850341e-022],\n",
       "       [6.52987748e-001, 3.46996411e-001, 1.58404910e-005],\n",
       "       [2.86772513e-005, 9.99971323e-001, 1.91412278e-020],\n",
       "       [9.87711197e-001, 1.22888026e-002, 2.57845100e-015],\n",
       "       [9.95153465e-001, 4.84653526e-003, 3.38368554e-028],\n",
       "       [1.90146693e-003, 9.98036865e-001, 6.16679471e-005],\n",
       "       [6.25563814e-002, 9.37443615e-001, 3.24925488e-009],\n",
       "       [3.85578210e-002, 9.61442168e-001, 1.14728573e-008],\n",
       "       [1.43779289e-042, 1.00000000e+000, 3.49428099e-063],\n",
       "       [2.65886419e-007, 9.99999734e-001, 6.52767983e-011],\n",
       "       [5.06382455e-001, 4.93617545e-001, 1.98925805e-010],\n",
       "       [2.10636124e-019, 1.00000000e+000, 1.26224222e-019],\n",
       "       [8.20835193e-001, 1.79163681e-001, 1.12614912e-006],\n",
       "       [9.89878985e-001, 1.01210151e-002, 9.02946987e-016],\n",
       "       [9.82853883e-001, 1.71461171e-002, 3.49544666e-016],\n",
       "       [8.89176676e-001, 1.10823324e-001, 3.22518629e-012],\n",
       "       [1.26257449e-003, 9.98733580e-001, 3.84530064e-006],\n",
       "       [9.70969439e-001, 2.90305607e-002, 1.73548254e-014],\n",
       "       [8.42462951e-001, 1.57537049e-001, 8.46173790e-018],\n",
       "       [7.21646037e-001, 2.75183851e-001, 3.17011138e-003],\n",
       "       [9.61620340e-001, 3.83796596e-002, 1.13242061e-018],\n",
       "       [8.75949620e-001, 1.24050380e-001, 6.98733248e-029],\n",
       "       [3.30530361e-001, 6.65055172e-001, 4.41446693e-003],\n",
       "       [9.94833983e-001, 5.16601677e-003, 2.56514697e-018],\n",
       "       [1.95125131e-054, 1.00000000e+000, 1.39570857e-115],\n",
       "       [5.84745800e-004, 9.99414801e-001, 4.53029148e-007],\n",
       "       [9.01568808e-001, 9.84311918e-002, 1.41315990e-014],\n",
       "       [9.35997646e-001, 6.40023538e-002, 1.68793595e-017],\n",
       "       [7.29659701e-001, 2.70340299e-001, 4.87603953e-030],\n",
       "       [1.49181000e-003, 9.98508190e-001, 3.46482148e-020],\n",
       "       [6.47713040e-001, 2.87509644e-001, 6.47773159e-002],\n",
       "       [9.82595277e-001, 1.74047234e-002, 2.56203615e-022],\n",
       "       [9.17498214e-002, 9.08250151e-001, 2.79071020e-008],\n",
       "       [9.88439907e-001, 1.15600927e-002, 5.37697692e-018],\n",
       "       [9.52682245e-008, 9.32243310e-001, 6.77565948e-002],\n",
       "       [9.69208947e-001, 3.07910534e-002, 1.49721581e-018],\n",
       "       [5.92727259e-015, 1.00000000e+000, 1.28667531e-017],\n",
       "       [9.39108900e-044, 1.00000000e+000, 7.39671726e-088],\n",
       "       [9.94779765e-001, 5.22023510e-003, 1.25853856e-017],\n",
       "       [3.24008057e-001, 6.75991943e-001, 2.86281770e-012],\n",
       "       [9.98429001e-001, 1.57099852e-003, 6.51913419e-021],\n",
       "       [3.40818929e-002, 8.81493796e-001, 8.44243113e-002],\n",
       "       [8.19390994e-004, 9.99180608e-001, 6.01235060e-010],\n",
       "       [9.72665254e-001, 2.73347457e-002, 5.76639284e-015],\n",
       "       [1.55646086e-063, 1.00000000e+000, 2.28572762e-128],\n",
       "       [7.09776182e-001, 2.79484222e-001, 1.07395961e-002],\n",
       "       [9.98235131e-001, 1.76486874e-003, 1.10271134e-027],\n",
       "       [9.53731841e-001, 4.62681590e-002, 3.85114068e-012],\n",
       "       [5.58768327e-001, 4.41229760e-001, 1.91294604e-006]])"
      ]
     },
     "execution_count": 433,
     "metadata": {},
     "output_type": "execute_result"
    }
   ],
   "source": [
    "E_step(X, pi0, mu0, sigma0)"
   ]
  },
  {
   "cell_type": "code",
   "execution_count": 434,
   "metadata": {},
   "outputs": [
    {
     "name": "stdout",
     "output_type": "stream",
     "text": [
      "Current answer for task Task 1 (E-step) is: 0.533717874108129\n"
     ]
    }
   ],
   "source": [
    "gamma = E_step(X, pi0, mu0, sigma0)\n",
    "grader.submit_e_step(gamma)"
   ]
  },
  {
   "cell_type": "markdown",
   "metadata": {},
   "source": [
    "### M-step\n",
    "\n",
    "In M-step we need to maximize $\\mathbb{E}_{q(T)}\\log p(X,T | \\theta)$ with respect to $\\theta$. In our model this means that we need to find optimal values of $\\pi$, $\\mu$, $\\Sigma$. To do so, you need to compute the derivatives and \n",
    "set them to zero. You should start by deriving formulas for $\\mu$ as it is the easiest part. Then move on to $\\Sigma$. Here it is crucial to optimize function w.r.t. to $\\Lambda = \\Sigma^{-1}$ and then inverse obtained result. Finaly, to compute $\\pi$, you will need <a href=\"https://www3.nd.edu/~jstiver/FIN360/Constrained%20Optimization.pdf\">Lagrange Multipliers technique</a> to satisfy constraint $\\sum\\limits_{i=1}^{n}\\pi_i = 1$.\n",
    "\n",
    "<br>\n",
    "<b>Important note:</b> You will need to compute derivatives of scalars with respect to matrices. To refresh this technique from previous courses, see <a href=\"https://en.wikipedia.org/wiki/Matrix_calculus\"> wiki article</a> about it . Main formulas of matrix derivatives can be found in <a href=\"http://www2.imm.dtu.dk/pubdb/views/edoc_download.php/3274/pdf/imm3274.pdf\">Chapter 2 of The Matrix Cookbook</a>. For example, there you may find that $\\frac{\\partial}{\\partial A}\\log |A| = A^{-T}$.\n"
   ]
  },
  {
   "cell_type": "markdown",
   "metadata": {},
   "source": [
    "<b>Task 2:</b> Implement M-step for GMM using template below."
   ]
  },
  {
   "cell_type": "markdown",
   "metadata": {},
   "source": [
    "## Derivatives wrt $\\mu_c$, $\\Sigma_c$, $\\pi$ taken from:\n",
    "\n",
    "https://zhiyzuo.github.io/EM/#convergence"
   ]
  },
  {
   "cell_type": "code",
   "execution_count": 546,
   "metadata": {},
   "outputs": [],
   "source": [
    "def M_step(X, gamma):\n",
    "    \"\"\"\n",
    "    Performs M-step on GMM model\n",
    "    Each input is numpy array:\n",
    "    X: (N x d), data points\n",
    "    gamma: (N x C), distribution q(T)  \n",
    "    \n",
    "    Returns:\n",
    "    pi: (C)\n",
    "    mu: (C x d)\n",
    "    sigma: (C x d x d)\n",
    "    \"\"\"\n",
    "    N = X.shape[0] # number of objects\n",
    "    C = gamma.shape[1] # number of clusters\n",
    "    d = X.shape[1] # dimension of each object\n",
    "\n",
    "    ### YOUR CODE HERE\n",
    "    mu_ = np.zeros((C,d))\n",
    "    sigma_ = np.zeros((C,d,d))\n",
    "    pi_ = np.zeros((C,1))\n",
    "    \n",
    "    # I aim to calculate parameters maximizing the expection of log P(X,T|theta)\n",
    "    # Finding the mu\n",
    "    \n",
    "    for j in range(C):\n",
    "        denom_sum, nom_sum = 0, 0 \n",
    "        for i in range(N):\n",
    "            nom_sum += gamma[i][j] * X[i]\n",
    "            denom_sum += gamma[i][j]\n",
    "        mu_[j] = nom_sum/denom_sum \n",
    "        \n",
    "    # Finding the sigma  \n",
    "    for j in range(C):\n",
    "        denom_sum, nom_sum = 0, 0 \n",
    "        for i in range(N):\n",
    "            x_m = (X[i] - mu_[j]).reshape((X[i] - mu_[j]).shape[0],1)\n",
    "            nom_sum += gamma[i][j] * np.dot(x_m,np.transpose(x_m))\n",
    "            denom_sum += gamma[i][j]\n",
    "        sigma_[j] = nom_sum/denom_sum \n",
    "        \n",
    "    # Finding the pi  \n",
    "    for j in range(C):\n",
    "        nom_sum = 0\n",
    "        for i in range(N):\n",
    "            nom_sum += gamma[i][j]\n",
    "        pi_[j] = nom_sum/N \n",
    "    \n",
    "    return pi_, mu_, sigma_"
   ]
  },
  {
   "cell_type": "code",
   "execution_count": 548,
   "metadata": {},
   "outputs": [
    {
     "name": "stdout",
     "output_type": "stream",
     "text": [
      "Current answer for task Task 2 (M-step: mu) is: 2.8993918820503897\n",
      "Current answer for task Task 2 (M-step: sigma) is: 5.977105216897535\n",
      "Current answer for task Task 2 (M-step: pi) is: 0.5507624459218785\n"
     ]
    }
   ],
   "source": [
    "pi, mu, sigma = pi0, mu0, sigma0\n",
    "gamma = E_step(X, pi0, mu0, sigma0)\n",
    "pi, mu, sigma = M_step(X, gamma)\n",
    "grader.submit_m_step(pi, mu, sigma)"
   ]
  },
  {
   "cell_type": "markdown",
   "metadata": {},
   "source": [
    "### Loss function"
   ]
  },
  {
   "cell_type": "markdown",
   "metadata": {},
   "source": [
    "Finally, we need some function to track convergence. We will use variational lower bound $\\mathcal{L}$ for this purpose. We will stop our EM iterations when $\\mathcal{L}$ will saturate. Usually, you will need only about 10-20 iterations to converge. It is also useful to check that this function never decreases during training. If it does, you have a bug in your code.\n",
    "\n",
    "<b>Task 3:</b> Implement a function that will compute $\\mathcal{L}$ using template below.\n",
    "\n",
    "$$\\mathcal{L} = \\sum_{n=1}^{N} \\sum_{k=1}^{K} \\mathbb{E}[z_{n, k}] (\\log \\pi_k + \\log \\mathcal{N}(x_n | \\mu_k, \\sigma_k)) - \\sum_{n=1}^{N} \\sum_{k=1}^{K} \\mathbb{E}[z_{n, k}] \\log \\mathbb{E}[z_{n, k}]$$"
   ]
  },
  {
   "cell_type": "code",
   "execution_count": 804,
   "metadata": {},
   "outputs": [],
   "source": [
    "def compute_vlb(X, pi, mu, sigma, gamma):\n",
    "    \"\"\"\n",
    "    Each input is numpy array:\n",
    "    X: (N x d), data points\n",
    "    gamma: (N x C), distribution q(T)  \n",
    "    pi: (C)\n",
    "    mu: (C x d)\n",
    "    sigma: (C x d x d)\n",
    "    \n",
    "    Returns value of variational lower bound\n",
    "    \"\"\"\n",
    "    N = X.shape[0] # number of objects\n",
    "    C = gamma.shape[1] # number of clusters\n",
    "    d = X.shape[1] # dimension of each object\n",
    "\n",
    "    ### YOUR CODE HERE\n",
    "    ft, st = 0, 0\n",
    "    for i in range(N):\n",
    "        for j in range(C):\n",
    "            w = gamma[i][j]\n",
    "            x_m = (X[i] - mu[j]).reshape((X[i] - mu[j]).shape[0],1)\n",
    "            \n",
    "            \n",
    "            normal_term = (-1/2) * np.dot(np.dot(np.transpose(x_m), np.linalg.pinv(sigma[j])),x_m)\n",
    "            eig_values = np.array(np.linalg.eigvals(sigma[j]))\n",
    "            pseudo_det = np.product(eig_values[eig_values > 1e-12])\n",
    "            sign, logdet = np.linalg.slogdet(sigma[j])\n",
    "            first_term = w * np.log(pi[j]) + w * normal_term - w * np.log(np.sqrt((2*np.pi)**d)) - w * 0.5 * sign * logdet #- np.log(w *  np.sqrt(sign * np.exp(logdet)))\n",
    "            second_term = w * np.log(w)\n",
    "            \n",
    "            ft += first_term\n",
    "            st += second_term \n",
    "            \n",
    "    loss = ft - st\n",
    "    return loss"
   ]
  },
  {
   "cell_type": "code",
   "execution_count": 805,
   "metadata": {},
   "outputs": [
    {
     "name": "stdout",
     "output_type": "stream",
     "text": [
      "[[-1213.97346431]]\n",
      "[[0.]]\n"
     ]
    },
    {
     "data": {
      "text/plain": [
       "<matplotlib.collections.PathCollection at 0x235651b7780>"
      ]
     },
     "execution_count": 805,
     "metadata": {},
     "output_type": "execute_result"
    },
    {
     "data": {
      "image/png": "[encoded data removed]",
      "text/plain": [
       "<Figure size 360x360 with 1 Axes>"
      ]
     },
     "metadata": {
      "needs_background": "light"
     },
     "output_type": "display_data"
    }
   ],
   "source": [
    "pi, mu, sigma = pi0, mu0, sigma0\n",
    "gamma = E_step(X, pi, mu, sigma)\n",
    "pi, mu, sigma = M_step(X, gamma)\n",
    "loss = compute_vlb(X, pi, mu, sigma, gamma)\n",
    "fig = plt.figure(figsize=(5,5))\n",
    "ax = fig.add_subplot(111)\n",
    "print(loss)\n",
    "print(np.exp(loss))\n",
    "ax.scatter([1],np.exp(loss))"
   ]
  },
  {
   "cell_type": "code",
   "execution_count": 806,
   "metadata": {},
   "outputs": [
    {
     "name": "stdout",
     "output_type": "stream",
     "text": [
      "Current answer for task Task 3 (VLB) is: -1213.9734643060176\n"
     ]
    }
   ],
   "source": [
    "pi, mu, sigma = pi0, mu0, sigma0\n",
    "gamma = E_step(X, pi, mu, sigma)\n",
    "pi, mu, sigma = M_step(X, gamma)\n",
    "loss = compute_vlb(X, pi, mu, sigma, gamma)\n",
    "grader.submit_VLB(loss)"
   ]
  },
  {
   "cell_type": "markdown",
   "metadata": {},
   "source": [
    "### Bringing it all together"
   ]
  },
  {
   "cell_type": "markdown",
   "metadata": {},
   "source": [
    "Now that we have E step, M step and VLB, we can implement training loop. We will start at random values of $\\pi$, $\\mu$ and $\\Sigma$, train until $\\mathcal{L}$ stops changing and return the resulting points. We also know that EM algorithm sometimes stops at local optima. To avoid this we should restart algorithm multiple times from different starting positions. Each training trial should stop either when maximum number of iterations is reached or when relative improvement is smaller than given tolerance ($|\\frac{\\mathcal{L}_i-\\mathcal{L}_{i-1}}{\\mathcal{L}_{i-1}}| \\le \\text{rtol}$).\n",
    "\n",
    "Remember, that values of $\\pi$ that you generate must be non-negative and sum up to 1. Also, $\\Sigma$ matrices must be symmetric and positive semi-definite. If you don't know how to generate those matrices, you can use $\\Sigma=I$ as initialization.\n",
    "\n",
    "You will also sometimes get numerical errors because of component collapsing. The easiest way to deal with this problems is to simply restart the procedure.\n",
    "\n",
    "<b>Task 4:</b> Implement training procedure"
   ]
  },
  {
   "cell_type": "code",
   "execution_count": 874,
   "metadata": {},
   "outputs": [],
   "source": [
    "def train_EM(X, C, rtol=1e-3, max_iter=100, restarts=10):\n",
    "    '''\n",
    "    Starts with random initialization *restarts* times\n",
    "    Runs optimization until saturation with *rtol* reached\n",
    "    or *max_iter* iterations were made.\n",
    "    \n",
    "    X: (N, d), data points\n",
    "    C: int, number of clusters\n",
    "    '''\n",
    "    N = X.shape[0] # number of objects\n",
    "    d = X.shape[1] # dimension of each object\n",
    "    \n",
    "    best_loss = 0.0\n",
    "    best_pi = 0.0\n",
    "    best_mu = 0.0\n",
    "    best_sigma = 0.0\n",
    "    \n",
    "    \n",
    "    for _ in range(restarts):\n",
    "        try:\n",
    "            ### YOUR CODE HERE\n",
    "            # Random initialization of pi\n",
    "            pi_ = np.random.randint(10, size=3)\n",
    "            pi = pi_ / np.sum(pi_)\n",
    "            \n",
    "            # Random initialization of mu\n",
    "            mu = 2 * np.random.random_sample((C,d))\n",
    "            \n",
    "            # Random initialization of sigma\n",
    "            sigma = np.zeros((C,d,d))\n",
    "            for i in range(C):\n",
    "                sigma[i] = np.diag(np.ones(d))\n",
    "                \n",
    "            loss_ = []\n",
    "            \n",
    "            ### E and M steps\n",
    "            for j in range(max_iter+1):\n",
    "                gamma = E_step(X, pi, mu, sigma)\n",
    "                pi, mu, sigma = M_step(X, gamma)\n",
    "                loss = compute_vlb(X, pi, mu, sigma, gamma)\n",
    "                loss_.append(loss)\n",
    "                \n",
    "                if(j!= 0):\n",
    "                    if np.abs((loss - loss_[-2])/loss_[-2]) <= rtol:\n",
    "                        break\n",
    "                    else: \n",
    "                        if j == max_iter:\n",
    "                            break\n",
    "                            \n",
    "            if _ == 0:\n",
    "                best_loss, best_pi, best_mu, best_sigma = loss, pi, mu, sigma\n",
    "            else:\n",
    "                if loss_[-1] < best_loss:\n",
    "                    best_loss = loss_[-1]\n",
    "                    best_pi = pi\n",
    "                    best_mu = mu\n",
    "                    best_sigma = sigma\n",
    "                        \n",
    "                        \n",
    "        except np.linalg.LinAlgError:\n",
    "            print(\"Singular matrix: components collapsed\")\n",
    "            pass\n",
    "        \n",
    "        #best_loss = best_loss_[np.argmax(best_loss_)] \n",
    "        #best_pi = best_pi_[np.argmax(best_pi_)] \n",
    "        #best_mu = best_mu_[np.argmax(best_mu_)]\n",
    "        #best_sigma = best_sigma_[np.argmax(best_sigma_)]\n",
    "        \n",
    "        \n",
    "    return best_loss, best_pi, best_mu, best_sigma"
   ]
  },
  {
   "cell_type": "code",
   "execution_count": 875,
   "metadata": {},
   "outputs": [
    {
     "name": "stderr",
     "output_type": "stream",
     "text": [
      "C:\\Users\\20184732\\AppData\\Local\\Continuum\\anaconda3\\lib\\site-packages\\ipykernel_launcher.py:30: RuntimeWarning: invalid value encountered in true_divide\n",
      "C:\\Users\\20184732\\AppData\\Local\\Continuum\\anaconda3\\lib\\site-packages\\numpy\\core\\fromnumeric.py:83: RuntimeWarning: invalid value encountered in reduce\n",
      "  return ufunc.reduce(obj, axis, dtype, out, **passkwargs)\n",
      "C:\\Users\\20184732\\AppData\\Local\\Continuum\\anaconda3\\lib\\site-packages\\numpy\\linalg\\linalg.py:1876: RuntimeWarning: invalid value encountered in greater\n",
      "  large = s > cutoff\n"
     ]
    },
    {
     "name": "stdout",
     "output_type": "stream",
     "text": [
      "Singular matrix: components collapsed\n",
      "Singular matrix: components collapsed\n",
      "Current answer for task Task 4 (EM) is: -1160.2504376179945\n"
     ]
    }
   ],
   "source": [
    "best_loss, best_pi, best_mu, best_sigma = train_EM(X, 3)\n",
    "grader.submit_EM(best_loss)"
   ]
  },
  {
   "cell_type": "markdown",
   "metadata": {},
   "source": [
    "If you implemented all the steps correctly, your algorithm should converge in about 20 iterations. Let's plot the clusters to see it. We will assign a cluster label as the most probable cluster index. This can be found using matrix $\\gamma$ computed on last E-step. \n"
   ]
  },
  {
   "cell_type": "code",
   "execution_count": 876,
   "metadata": {},
   "outputs": [
    {
     "data": {
      "image/png": "[encoded data removed]",
      "text/plain": [
       "<Figure size 432x288 with 1 Axes>"
      ]
     },
     "metadata": {
      "needs_background": "light"
     },
     "output_type": "display_data"
    }
   ],
   "source": [
    "gamma = E_step(X, best_pi, best_mu, best_sigma)\n",
    "labels = gamma.argmax(1)\n",
    "plt.scatter(X[:, 0], X[:, 1], c=labels, s=30)\n",
    "plt.axis('equal')\n",
    "plt.show()"
   ]
  },
  {
   "cell_type": "markdown",
   "metadata": {},
   "source": [
    "### Authorization & Submission\n",
    "To submit assignment parts to Cousera platform, please, enter your e-mail and your token into variables below. You can generate the token on this programming assignment page. <b>Note:</b> Token expires 30 minutes after generation."
   ]
  },
  {
   "cell_type": "code",
   "execution_count": 877,
   "metadata": {},
   "outputs": [
    {
     "name": "stdout",
     "output_type": "stream",
     "text": [
      "You want to submit these numbers:\n",
      "Task Task 1 (E-step): 0.533717874108129\n",
      "Task Task 2 (M-step: mu): 2.8993918820503897\n",
      "Task Task 2 (M-step: sigma): 5.977105216897535\n",
      "Task Task 2 (M-step: pi): 0.5507624459218785\n",
      "Task Task 3 (VLB): -1213.9734643060176\n",
      "Task Task 4 (EM): -1160.2504376179945\n"
     ]
    }
   ],
   "source": [
    "STUDENT_EMAIL = \"slaglr@gmail.com\"# EMAIL HERE\n",
    "STUDENT_TOKEN = \"NjwCgqE1mYyJEihK\"# TOKEN HERE\n",
    "grader.status()"
   ]
  },
  {
   "cell_type": "markdown",
   "metadata": {},
   "source": [
    "If you want to submit these answers, run cell below"
   ]
  },
  {
   "cell_type": "code",
   "execution_count": 878,
   "metadata": {},
   "outputs": [
    {
     "name": "stdout",
     "output_type": "stream",
     "text": [
      "Submitted to Coursera platform. See results on assignment page!\n"
     ]
    }
   ],
   "source": [
    "grader.submit(STUDENT_EMAIL, STUDENT_TOKEN)"
   ]
  },
  {
   "cell_type": "code",
   "execution_count": null,
   "metadata": {},
   "outputs": [],
   "source": []
  }
 ],
 "metadata": {
  "kernelspec": {
   "display_name": "Python 3",
   "language": "python",
   "name": "python3"
  },
  "language_info": {
   "codemirror_mode": {
    "name": "ipython",
    "version": 3
   },
   "file_extension": ".py",
   "mimetype": "text/x-python",
   "name": "python",
   "nbconvert_exporter": "python",
   "pygments_lexer": "ipython3",
   "version": "3.7.0"
  },
  "latex_envs": {
   "bibliofile": "biblio.bib",
   "cite_by": "apalike",
   "current_citInitial": 1,
   "eqLabelWithNumbers": true,
   "eqNumInitial": 0
  }
 },
 "nbformat": 4,
 "nbformat_minor": 2
}
